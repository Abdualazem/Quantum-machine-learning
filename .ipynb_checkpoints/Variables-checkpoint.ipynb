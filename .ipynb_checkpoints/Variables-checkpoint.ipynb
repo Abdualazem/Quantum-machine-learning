{
 "cells": [
  {
   "cell_type": "code",
   "execution_count": null,
   "metadata": {},
   "outputs": [],
   "source": [
    "def variables():\n",
    "\n",
    "    vardictionary = {\n",
    "                     \"minDeltaR_y_j\": \"min(\\Delta R(\\gamma, j))\",\n",
    "                     \"DeltaPhi_yy\": \"\\Delta\\phi(\\gamma\\gamma)\",\n",
    "                     \"DeltaP_yy_jj\": \"\\Delta P (\\gamma\\gamma, jj)\",\n",
    "                     \"p_yy\": \"p_{\\gamma\\gamma}\",\n",
    "                     \"e_yy\": \"e_{\\gamma\\gamma}\",\n",
    "                     \"recoM_jj\": \"M_{Reco}^{jj}\",\n",
    "                     \"pT_y1\": \"p_{T}^{\\gamma_{1}}\",\n",
    "                     \"E_y1\": \"E_{\\gamma_{1}}\",\n",
    "                     \"p_y1\": \"p^{\\gamma_{1}}\",\n",
    "                     \"CosTheta_y1\": \"cos(\\\\theta_{\\gamma_{1}})\",\n",
    "                     \"pT_y2\": \"p_{T}^{\\gamma_{2}}\",\n",
    "                     \"E_y2\": \"E_{\\gamma_{2}}\",\n",
    "                     \"p_y2\": \"p_{\\gamma_{2}}\",\n",
    "                     \"CosTheta_y2\": \"cos(\\\\theta_{\\gamma_{2}})\",\n",
    "                     \"m_yy\": \"m_{\\gamma\\gamma}\",\n",
    "                     \"pT_yy\": \"p_{T}^{\\gamma\\gamma}\",\n",
    "                     \"recoM_yy\": \"M_{Reco}^{\\gamma\\gamma}\",\n",
    "                     \"CosTheta_yy\": \"cos(\\\\theta_{\\gamma\\gamma})\",\n",
    "                     \"Pt_yy\": \"Pt_yy\",\n",
    "                     \"pTt_yy\": \"pTt_yy\",\n",
    "                     \"DeltaP_yy\": \"\\Delta P_{\\gamma\\gamma}\",\n",
    "                     \"DeltaE_yy\": \"\\Delta E_{\\gamma\\gamma}\",\n",
    "                     \"pT_j1\": \"p_{T}^{j_{1}}\",\n",
    "                     \"E_j1\": \"E_{j_{1}}\",\n",
    "                     \"p_j1\": \"p_{j_{1}}\",\n",
    "                     \"CosTheta_j1\": \"cos(\\\\theta_{j_{1}})\",\n",
    "                     \"pT_j2\": \"p_{T}_{j_{2}}\",\n",
    "                     \"E_j2\": \"E_{j_{2}}\",\n",
    "                     \"p_j2\": \"p_{j_{2}}\",\n",
    "                     \"CosTheta_j2\": \"cos(\\\\theta_{j_{2}})\",\n",
    "                     \"p_jj\": \"p_{jj}\",\n",
    "                     \"e_jj\": \"e_{jj}\",\n",
    "                     \"m_jj\": \"m_{jj}\",\n",
    "                     \"CosTheta_jj\": \"cos(\\\\theta_{jj})\",\n",
    "                     \"CosTheta_y1y2\": \"cos(\\\\theta_{\\gamma_1\\gamma_2})\",\n",
    "                     \"CosTheta_j1j2\": \"cos(\\\\theta_{j_1j_2})\",\n",
    "                     \"CosTheta_y1j1\": \"cos(\\\\theta_{\\gamma_{1}j_{1}})\",\n",
    "                     \"CosTheta_y1j2\": \"cos(\\\\theta_{\\gamma_{1}j_{2}})\",\n",
    "                     \"CosTheta_y2j1\": \"cos(\\\\theta_{\\gamma_{2}j_{1}})\",\n",
    "                     \"CosTheta_y2j2\": \"cos(\\\\theta_{\\gamma_{2}j_{2}})\",\n",
    "                     \"DeltaE_yy_jj\": \"\\Delta E_{\\gamma\\gammajj}\",\n",
    "                     \"CosTheta_yy_jj\": \"cos(\\\\theta_{\\gamma\\gammajj})\",\n",
    "                     \"DeltaPhi_yy_jj\": \"\\Delta(Phi_{\\gamma\\gammajj})\"\n",
    "                    }\n",
    "\n",
    "\n",
    "    return vardictionary\n"
   ]
  }
 ],
 "metadata": {
  "kernelspec": {
   "display_name": "Python 3",
   "language": "python",
   "name": "python3"
  },
  "language_info": {
   "codemirror_mode": {
    "name": "ipython",
    "version": 3
   },
   "file_extension": ".py",
   "mimetype": "text/x-python",
   "name": "python",
   "nbconvert_exporter": "python",
   "pygments_lexer": "ipython3",
   "version": "3.8.10"
  }
 },
 "nbformat": 4,
 "nbformat_minor": 4
}
